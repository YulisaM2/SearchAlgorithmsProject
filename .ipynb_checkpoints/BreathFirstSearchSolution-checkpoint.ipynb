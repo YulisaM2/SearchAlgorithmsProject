{
 "cells": [
  {
   "cell_type": "code",
   "execution_count": 32,
   "metadata": {},
   "outputs": [],
   "source": [
    "# Resolviendo el 8-puzzle con un algoritmo sin informacion (BFS)\n",
    "import numpy as np\n",
    "from abc import ABC, abstractmethod"
   ]
  },
  {
   "cell_type": "code",
   "execution_count": 33,
   "metadata": {},
   "outputs": [
    {
     "data": {
      "text/plain": [
       "matrix([[1, 2, 3],\n",
       "        [<built-in function empty>, 8, 7],\n",
       "        [6, 5, 4]], dtype=object)"
      ]
     },
     "execution_count": 33,
     "metadata": {},
     "output_type": "execute_result"
    }
   ],
   "source": [
    "# Creando 8-puzzle ejemplo\n",
    "\n",
    "# 1 2 3\n",
    "#   8 7\n",
    "# 6 5 4\n",
    "puzzle = np.mat([[1, 2, 3], [np.empty, 8, 7], [6, 5, 4]])\n",
    "\n",
    "puzzle\n",
    "\n",
    "# La respuesta debe ser\n",
    "# 1 2 3\n",
    "# 4 5 6\n",
    "# 7 8 "
   ]
  },
  {
   "cell_type": "code",
   "execution_count": 39,
   "metadata": {},
   "outputs": [],
   "source": [
    "# ======== UTILIS ========\n",
    "# Para saber donde esta el espacio vacio cada iteracion\n",
    "class Coord:\n",
    "    def __init__(self, i, j):\n",
    "        self.i = i\n",
    "        self.j = j\n",
    "\n",
    "coord_empty = Coord(1,0)\n",
    "\n",
    "# Clases responsables de generar un nuevo estado dependiendo de la accion (modificar puzzle)\n",
    "class Action(ABC):\n",
    "    @abstractmethod\n",
    "    def move(self, state, coord_empty):\n",
    "        pass\n",
    "\n",
    "class ActionUp(Action):\n",
    "    def move(self, state, coord_empty):\n",
    "        # Revisar que sí se pueda mover hacia arriba\n",
    "        if coord_empty.i == 0:\n",
    "            return None\n",
    "        else:  \n",
    "            next_state = np.copy(state)\n",
    "            buffer = next_state[coord_empty.i - 1, coord_empty.j]\n",
    "            next_state[coord_empty.i, coord_empty.j] = buffer\n",
    "            next_state[coord_empty.i - 1, coord_empty.j] = np.empty\n",
    "            return next_state\n",
    "\n",
    "class ActionDown(Action):\n",
    "    def move(self, state, coord_empty):\n",
    "        # Revisar que sí se pueda mover hacia arriba\n",
    "        if coord_empty.i == state.shape[0] - 1:\n",
    "            return None\n",
    "        else:  \n",
    "            next_state = np.copy(state)\n",
    "            buffer = next_state[coord_empty.i + 1, coord_empty.j]\n",
    "            next_state[coord_empty.i, coord_empty.j] = buffer\n",
    "            next_state[coord_empty.i + 1, coord_empty.j] = np.empty\n",
    "            return next_state\n",
    "        \n",
    "class ActionLeft(Action):\n",
    "    def move(self, state, coord_empty):\n",
    "        # Revisar que sí se pueda mover a la izquierda\n",
    "        if coord_empty.j == 0:\n",
    "            return None\n",
    "        else:\n",
    "            next_state = np.copy(state)\n",
    "            buffer = next_state[coord_empty.i, coord_empty.j - 1]\n",
    "            next_state[coord_empty.i, coord_empty.j] = buffer\n",
    "            next_state[coord_empty.i, coord_empty.j - 1] = np.empty\n",
    "            return next_state\n",
    "\n",
    "class ActionRight(Action):\n",
    "    def move(self, state, coord_empty):\n",
    "        # Revisar que sí se pueda mover a la derecha\n",
    "        if coord_empty.j == state.shape[1] - 1:\n",
    "            return None\n",
    "        else:  \n",
    "            next_state = np.copy(state)\n",
    "            buffer = next_state[coord_empty.i, coord_empty.j + 1]\n",
    "            next_state[coord_empty.i, coord_empty.j] = buffer\n",
    "            next_state[coord_empty.i, coord_empty.j + 1] = np.empty\n",
    "            return next_state\n",
    "        \n",
    "# Como se usa un grafo, cada nodo debe construir sobre las secuencias de movimientos necesarias para resolver el puzzle\n",
    "class Node:\n",
    "    def __init__(self, id, depth, state, parent, parentAction, cost):\n",
    "        self.id = id\n",
    "        self.depth = depth\n",
    "        self.state = state\n",
    "        self.parent = parent\n",
    "        self.parentAction = parentAction\n",
    "        self.cost = cost"
   ]
  },
  {
   "cell_type": "code",
   "execution_count": 40,
   "metadata": {},
   "outputs": [],
   "source": [
    "# Necesitamos comenzar a construir el grafo, usando el puzzle declarado previamente como su estado inicial\n",
    "root = Node(0, 0, puzzle, None, None, 0)"
   ]
  },
  {
   "cell_type": "code",
   "execution_count": 41,
   "metadata": {},
   "outputs": [
    {
     "data": {
      "text/plain": [
       "array([[<built-in function empty>, 2, 3],\n",
       "       [1, 8, 7],\n",
       "       [6, 5, 4]], dtype=object)"
      ]
     },
     "execution_count": 41,
     "metadata": {},
     "output_type": "execute_result"
    }
   ],
   "source": []
  },
  {
   "cell_type": "code",
   "execution_count": null,
   "metadata": {},
   "outputs": [],
   "source": []
  }
 ],
 "metadata": {
  "kernelspec": {
   "display_name": "Python 3",
   "language": "python",
   "name": "python3"
  },
  "language_info": {
   "codemirror_mode": {
    "name": "ipython",
    "version": 3
   },
   "file_extension": ".py",
   "mimetype": "text/x-python",
   "name": "python",
   "nbconvert_exporter": "python",
   "pygments_lexer": "ipython3",
   "version": "3.7.6"
  }
 },
 "nbformat": 4,
 "nbformat_minor": 4
}
